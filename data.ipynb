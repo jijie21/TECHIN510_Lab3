{
 "cells": [
  {
   "cell_type": "code",
   "execution_count": 86,
   "metadata": {},
   "outputs": [],
   "source": [
    "import sqlite3\n",
    "con = sqlite3.connect(\"lab3.sqlite\", isolation_level=None)\n",
    "c = con.cursor()"
   ]
  },
  {
   "cell_type": "code",
   "execution_count": 87,
   "metadata": {},
   "outputs": [
    {
     "data": {
      "text/plain": [
       "<sqlite3.Cursor at 0x10d55e2c0>"
      ]
     },
     "execution_count": 87,
     "metadata": {},
     "output_type": "execute_result"
    }
   ],
   "source": [
    "c.execute(\"\"\"DROP TABLE IF EXISTS movies\"\"\")"
   ]
  },
  {
   "cell_type": "code",
   "execution_count": 88,
   "metadata": {},
   "outputs": [
    {
     "data": {
      "text/plain": [
       "<sqlite3.Cursor at 0x10d55e2c0>"
      ]
     },
     "execution_count": 88,
     "metadata": {},
     "output_type": "execute_result"
    }
   ],
   "source": [
    "# always include:\n",
    "# created_at DATETIME DEFAULT CURRENT_TIMESTAMP\n",
    "# updated_at DATETIME DEFAULT CURRENT_TIMESTAMP\n",
    "\n",
    "q = \"\"\"\n",
    "CREATE TABLE IF NOT EXISTS movies (\n",
    "    id INTEGER PRIMARY KEY,\n",
    "    title TEXT,\n",
    "    year INTEGER,\n",
    "    rating FLOAT,\n",
    "    is_watched BOOLEAN DEFAULT 0,\n",
    "    created_at DATETIME DEFAULT CURRENT_TIMESTAMP,\n",
    "    updated_at DATETIME DEFAULT CURRENT_TIMESTAMP)\n",
    "\"\"\"\n",
    "c.execute(q)"
   ]
  },
  {
   "cell_type": "code",
   "execution_count": 89,
   "metadata": {},
   "outputs": [],
   "source": [
    "# Check if the table is created\n",
    "q = \"\"\"\n",
    "SELECT\n",
    "    name\n",
    "FROM \n",
    "    sqlite_master\n",
    "\"\"\"\n",
    "\n",
    "res = c.execute(q)"
   ]
  },
  {
   "cell_type": "code",
   "execution_count": 90,
   "metadata": {},
   "outputs": [
    {
     "data": {
      "text/plain": [
       "('movies',)"
      ]
     },
     "execution_count": 90,
     "metadata": {},
     "output_type": "execute_result"
    }
   ],
   "source": [
    "# Fetch the first row\n",
    "res.fetchone()\n",
    "\n",
    "# # Fetch all rows\n",
    "# res.fetchall()"
   ]
  },
  {
   "cell_type": "code",
   "execution_count": 91,
   "metadata": {},
   "outputs": [
    {
     "data": {
      "text/plain": [
       "[]"
      ]
     },
     "execution_count": 91,
     "metadata": {},
     "output_type": "execute_result"
    }
   ],
   "source": [
    "# * means all columns\n",
    "q = \"\"\"\n",
    "SELECT\n",
    "    *\n",
    "FROM\n",
    "    movies\n",
    "\"\"\"\n",
    "\n",
    "res = c.execute(q)\n",
    "res.fetchall()"
   ]
  },
  {
   "cell_type": "code",
   "execution_count": 92,
   "metadata": {},
   "outputs": [
    {
     "data": {
      "text/plain": [
       "<sqlite3.Cursor at 0x10d55e2c0>"
      ]
     },
     "execution_count": 92,
     "metadata": {},
     "output_type": "execute_result"
    }
   ],
   "source": [
    "q = \"\"\"\n",
    "INSERT INTO movies (title, year, rating) VALUES (?, ?, ?)\n",
    "\"\"\"\n",
    "\n",
    "c.execute(q, (\"The Matrix\", 1999, 5.0))"
   ]
  },
  {
   "cell_type": "code",
   "execution_count": 93,
   "metadata": {},
   "outputs": [
    {
     "data": {
      "text/plain": [
       "<sqlite3.Cursor at 0x10d55e2c0>"
      ]
     },
     "execution_count": 93,
     "metadata": {},
     "output_type": "execute_result"
    }
   ],
   "source": [
    "c.execute(q, (\"Forrest Gump\", 1994, 3.5))"
   ]
  },
  {
   "cell_type": "code",
   "execution_count": 94,
   "metadata": {},
   "outputs": [
    {
     "data": {
      "text/plain": [
       "[(1, 'The Matrix', 1999, 5.0, 0, '2024-02-01 23:44:51', '2024-02-01 23:44:51'),\n",
       " (2,\n",
       "  'Forrest Gump',\n",
       "  1994,\n",
       "  3.5,\n",
       "  0,\n",
       "  '2024-02-01 23:44:53',\n",
       "  '2024-02-01 23:44:53')]"
      ]
     },
     "execution_count": 94,
     "metadata": {},
     "output_type": "execute_result"
    }
   ],
   "source": [
    "# bad because won't work for LARGE data sets\n",
    "res = c.execute('''SELECT * FROM movies''')\n",
    "res.fetchall()"
   ]
  },
  {
   "cell_type": "code",
   "execution_count": 95,
   "metadata": {},
   "outputs": [
    {
     "data": {
      "text/plain": [
       "[(1, 'The Matrix', 1999, 5.0, 0, '2024-02-01 23:44:51', '2024-02-01 23:44:51'),\n",
       " (2,\n",
       "  'Forrest Gump',\n",
       "  1994,\n",
       "  3.5,\n",
       "  0,\n",
       "  '2024-02-01 23:44:53',\n",
       "  '2024-02-01 23:44:53')]"
      ]
     },
     "execution_count": 95,
     "metadata": {},
     "output_type": "execute_result"
    }
   ],
   "source": [
    "[x for x in c.execute(\"\"\"SELECT * FROM movies\"\"\")]"
   ]
  },
  {
   "cell_type": "code",
   "execution_count": 96,
   "metadata": {},
   "outputs": [
    {
     "data": {
      "text/plain": [
       "<sqlite3.Cursor at 0x10d55e2c0>"
      ]
     },
     "execution_count": 96,
     "metadata": {},
     "output_type": "execute_result"
    }
   ],
   "source": [
    "data = [\n",
    "    (\"Monty Python Live at the Hollywood Bowl\", 1982, 5.0),\n",
    "    (\"Monty Python's The Meaning of Life\", 1983, 4.5),\n",
    "    (\"Monty Python's Life of Brian\", 1979, 3.9),\n",
    "]\n",
    "c.executemany(\"INSERT INTO movies (title, year, rating) VALUES(?, ?, ?)\", data)"
   ]
  },
  {
   "cell_type": "code",
   "execution_count": 98,
   "metadata": {},
   "outputs": [
    {
     "name": "stdout",
     "output_type": "stream",
     "text": [
      "(1979, \"Monty Python's Life of Brian\")\n",
      "(1982, 'Monty Python Live at the Hollywood Bowl')\n",
      "(1983, \"Monty Python's The Meaning of Life\")\n",
      "(1994, 'Forrest Gump')\n",
      "(1999, 'The Matrix')\n"
     ]
    }
   ],
   "source": [
    "for row in c.execute(\"SELECT year, title FROM movies ORDER BY year\"):\n",
    "    print(row)"
   ]
  },
  {
   "cell_type": "markdown",
   "metadata": {},
   "source": []
  }
 ],
 "metadata": {
  "kernelspec": {
   "display_name": "base",
   "language": "python",
   "name": "python3"
  },
  "language_info": {
   "codemirror_mode": {
    "name": "ipython",
    "version": 3
   },
   "file_extension": ".py",
   "mimetype": "text/x-python",
   "name": "python",
   "nbconvert_exporter": "python",
   "pygments_lexer": "ipython3",
   "version": "3.11.7"
  }
 },
 "nbformat": 4,
 "nbformat_minor": 2
}
